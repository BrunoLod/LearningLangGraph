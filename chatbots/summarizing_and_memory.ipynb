{
 "cells": [
  {
   "cell_type": "markdown",
   "metadata": {},
   "source": [
    "## Apresentação \n",
    "\n",
    "Notebook destinado à criação de um chatbot que apresenta a capacidade de realizar resumos - para diminuir a quantidade de tokens informados até um outro node para produzir a resposta final - e memória. Tais estratégias se relacionam a um contexto da otimização da criação de chatbots em termos de custo computacional e financeiro, além de prover melhor experiência do usuário e aplicações com IA generativa mais robustas. "
   ]
  },
  {
   "cell_type": "markdown",
   "metadata": {},
   "source": [
    "### Librarys "
   ]
  },
  {
   "cell_type": "code",
   "execution_count": 5,
   "metadata": {},
   "outputs": [],
   "source": [
    "import getpass\n",
    "import os\n",
    "import sqlite3\n",
    "\n",
    "from dotenv import load_dotenv\n",
    "\n",
    "from IPython.display import Image, display\n",
    "\n",
    "from langchain_groq import ChatGroq\n",
    "\n",
    "from langgraph.graph import (MessagesState, \n",
    "                             StateGraph,\n",
    "                             START, \n",
    "                             END)\n",
    "\n",
    "from langgraph.checkpoint.memory import MemorySaver\n",
    "from langgraph.checkpoint.sqlite import SqliteSaver\n",
    "\n",
    "\n",
    "from langchain_core.messages import (SystemMessage, \n",
    "                                     HumanMessage, \n",
    "                                     RemoveMessage)"
   ]
  },
  {
   "cell_type": "markdown",
   "metadata": {},
   "source": [
    "### Variável de ambiente"
   ]
  },
  {
   "cell_type": "code",
   "execution_count": 24,
   "metadata": {},
   "outputs": [],
   "source": [
    "if \"GROQ_API_KEY\" not in os.environ:\n",
    "    os.environ[\"GROQ_API_KEY\"] = getpass.getpass(\"Enter your Groq API key: \")"
   ]
  },
  {
   "cell_type": "markdown",
   "metadata": {},
   "source": [
    "### Modelo "
   ]
  },
  {
   "cell_type": "code",
   "execution_count": 25,
   "metadata": {},
   "outputs": [],
   "source": [
    "# Instanciando o modelo de LLM que será utilizado. \n",
    "llm = ChatGroq(\n",
    "    model=\"llama-3.2-90b-text-preview\",\n",
    "    temperature=0.5,\n",
    "    max_tokens=None,\n",
    "    timeout=None,\n",
    "    max_retries=2\n",
    ")"
   ]
  },
  {
   "cell_type": "code",
   "execution_count": 26,
   "metadata": {},
   "outputs": [
    {
     "data": {
      "text/plain": [
       "'BMTH é a sigla da banda \"Bring Me the Horizon\". É uma banda britânica de metalcore formada em 2004 em Sheffield, Inglaterra.'"
      ]
     },
     "execution_count": 26,
     "metadata": {},
     "output_type": "execute_result"
    }
   ],
   "source": [
    "# Testando a conexão com a API. \n",
    "llm.invoke(\"BMTH é a sigla de qual banda ?\").content"
   ]
  },
  {
   "cell_type": "markdown",
   "metadata": {},
   "source": [
    "### Criando o chatbot "
   ]
  },
  {
   "cell_type": "code",
   "execution_count": 8,
   "metadata": {},
   "outputs": [],
   "source": [
    "# Criando a classe State, que irá provisionar a persistência de dados\n",
    "# nos nodes da arquitetura. A classe herda MessagesState, um reducer \n",
    "# que aplica por padrão a adição de mensagens num formato de lista, \n",
    "# e não a sua sobre-escrita. \n",
    "\n",
    "class State(MessagesState): \n",
    "    summary : str"
   ]
  },
  {
   "cell_type": "code",
   "execution_count": 9,
   "metadata": {},
   "outputs": [],
   "source": [
    "def call_model(state : State):\n",
    "\n",
    "    \"\"\"Função que chama o modelo de LLM utilizado e implementa\n",
    "       uma funcionalidade de resumo, visando diminuir os custos\n",
    "       financeiros e processamento da resposta do modelo. \"\"\"\n",
    "\n",
    "\n",
    "    # Extração do resumo por meio da chave \"summary\". \n",
    "    # Caso não exista resumo algum, é retornado vazio. \n",
    "    summary = state.get(\"summary\", \"\")\n",
    "\n",
    "    if summary:\n",
    "\n",
    "        # Instrução ao sistema. \n",
    "        system_message = f\"Summary of conversation earlier: {summary}\"\n",
    "\n",
    "        # Armazena a instrução ao sistema e as mensagens existentes. \n",
    "        messages = [SystemMessage(content=system_message)] + state[\"messages\"]\n",
    "\n",
    "    else:\n",
    "\n",
    "        # Se não existir resumo, apenas retorna as mensagens. \n",
    "        messages = state[\"messages\"]\n",
    "\n",
    "    # Resposta do modelo. \n",
    "    response = llm.invoke(messages)\n",
    "    return {\"messages\": response}\n"
   ]
  },
  {
   "cell_type": "code",
   "execution_count": 10,
   "metadata": {},
   "outputs": [],
   "source": [
    "def summarize_conversation(state: State):\n",
    "\n",
    "    \"\"\"Função que realiza uma conversa.\"\"\"\n",
    "\n",
    "    # Extração do resumo por meio da chave \"summary\". \n",
    "    # Caso não exista resumo algum, é retornado vazio.\n",
    "    summary = state.get(\"summary\", \"\")\n",
    "    \n",
    "    if summary:\n",
    "        \n",
    "        summary_message = (\n",
    "            f\"This is summary of the conversation to date: {summary}\\n\\n\"\n",
    "            \"Extend the summary by taking into account the new messages above:\"\n",
    "        )\n",
    "        \n",
    "    else:\n",
    "        summary_message = \"Create a summary of the conversation above:\"\n",
    "\n",
    "    # Adiciona o resumo junto das mensagens recebidas. \n",
    "    messages = state[\"messages\"] + [HumanMessage(content=summary_message)]\n",
    "\n",
    "    response = llm.invoke(messages)\n",
    "\n",
    "    return {\"summary\": response.content, \"messages\": messages}"
   ]
  },
  {
   "cell_type": "code",
   "execution_count": 11,
   "metadata": {},
   "outputs": [],
   "source": [
    "def should_continue(state : State):\n",
    "\n",
    "    \"\"\"Função que verifica a necessidade de realizar\n",
    "       o resumo da conversa ou não.\"\"\"\n",
    "\n",
    "    messages = state[\"messages\"]\n",
    "\n",
    "    # Critério lógico que decide que acima de 5 mensagens\n",
    "    # o modelo irá chamar a função que realiza o resumo. \n",
    "    if len(messages) > 5:\n",
    "        return \"summarize_conversation\"\n",
    "    \n",
    "    return END"
   ]
  },
  {
   "cell_type": "code",
   "execution_count": null,
   "metadata": {},
   "outputs": [
    {
     "data": {
      "image/png": "[encoded data removed]",
      "text/plain": [
       "<IPython.core.display.Image object>"
      ]
     },
     "metadata": {},
     "output_type": "display_data"
    }
   ],
   "source": [
    "# Construtor da arquitetura\n",
    "workflow = StateGraph(State)\n",
    "\n",
    "# Definindo os nodes presentes\n",
    "workflow.add_node(\"conversation\", call_model)\n",
    "workflow.add_node(\"summarize_conversation\", summarize_conversation)\n",
    "\n",
    "# Definindo os entrypoints - por onde irá passar o fluxo. \n",
    "workflow.add_edge(START, \"conversation\")\n",
    "workflow.add_conditional_edges(\"conversation\", should_continue) # edge condicional que bifurca o fluxo.\n",
    "workflow.add_edge(\"summarize_conversation\", END)\n",
    "\n",
    "# Definindo o checkpointer - criação de memória. \n",
    "memory = MemorySaver()\n",
    "chatbot = workflow.compile(checkpointer=memory)\n",
    "\n",
    "display(Image(chatbot.get_graph().draw_mermaid_png()))"
   ]
  },
  {
   "cell_type": "code",
   "execution_count": 49,
   "metadata": {},
   "outputs": [
    {
     "name": "stdout",
     "output_type": "stream",
     "text": [
      "==================================\u001b[1m Ai Message \u001b[0m==================================\n",
      "\n",
      "Hi Lance, it's nice to meet you. Is there something I can help you with or would you like to chat?\n"
     ]
    }
   ],
   "source": [
    "# Criando a thread. \n",
    "config = {\"configurable\": {\"thread_id\": \"10\"}}\n",
    "\n",
    "# Conversação. \n",
    "input_message = HumanMessage(content=\"hi! I'm Lance\")\n",
    "output = chatbot.invoke({\"messages\": [input_message]}, config) \n",
    "for m in output['messages'][-1:]:\n",
    "    m.pretty_print()\n",
    "\n"
   ]
  },
  {
   "cell_type": "code",
   "execution_count": 50,
   "metadata": {},
   "outputs": [
    {
     "name": "stdout",
     "output_type": "stream",
     "text": [
      "==================================\u001b[1m Ai Message \u001b[0m==================================\n",
      "\n",
      "Your name is Lance.\n"
     ]
    }
   ],
   "source": [
    "input_message = HumanMessage(content=\"what's my name?\")\n",
    "output = chatbot.invoke({\"messages\": [input_message]}, config) \n",
    "for m in output['messages'][-1:]:\n",
    "    m.pretty_print()\n",
    "\n"
   ]
  },
  {
   "cell_type": "code",
   "execution_count": 51,
   "metadata": {},
   "outputs": [
    {
     "name": "stdout",
     "output_type": "stream",
     "text": [
      "================================\u001b[1m Human Message \u001b[0m=================================\n",
      "\n",
      "Create a summary of the conversation above:\n"
     ]
    }
   ],
   "source": [
    "input_message = HumanMessage(content=\"I like the BMTH!\")\n",
    "output = chatbot.invoke({\"messages\": [input_message]}, config) \n",
    "for m in output['messages'][-1:]:\n",
    "    m.pretty_print()"
   ]
  },
  {
   "cell_type": "code",
   "execution_count": 52,
   "metadata": {},
   "outputs": [
    {
     "data": {
      "text/plain": [
       "\"Here's a summary of our conversation:\\n\\nWe had a casual conversation where you introduced yourself as Lance. You then mentioned that you like the band Bring Me The Horizon (BMTH). I responded by acknowledging your interest in the band and briefly mentioning their evolution in sound over the years.\""
      ]
     },
     "execution_count": 52,
     "metadata": {},
     "output_type": "execute_result"
    }
   ],
   "source": [
    "# Verificando o resumo.\n",
    "chatbot.get_state(config).values.get(\"summary\",\"\")"
   ]
  },
  {
   "cell_type": "code",
   "execution_count": 53,
   "metadata": {},
   "outputs": [
    {
     "name": "stdout",
     "output_type": "stream",
     "text": [
      "================================\u001b[1m Human Message \u001b[0m=================================\n",
      "\n",
      "This is summary of the conversation to date: Here's a summary of our conversation:\n",
      "\n",
      "We had a casual conversation where you introduced yourself as Lance. You then mentioned that you like the band Bring Me The Horizon (BMTH). I responded by acknowledging your interest in the band and briefly mentioning their evolution in sound over the years.\n",
      "\n",
      "Extend the summary by taking into account the new messages above:\n"
     ]
    }
   ],
   "source": [
    "input_message = HumanMessage(content=\"I like the Poppy too, and you ?\")\n",
    "output = chatbot.invoke({\"messages\": [input_message]}, config) \n",
    "for m in output['messages'][-1:]:\n",
    "    m.pretty_print()"
   ]
  },
  {
   "cell_type": "markdown",
   "metadata": {},
   "source": [
    "### Utilizando memória externa"
   ]
  },
  {
   "cell_type": "code",
   "execution_count": 19,
   "metadata": {},
   "outputs": [],
   "source": [
    "conect = sqlite3.connect(\":memory:\", check_same_thread=False)"
   ]
  },
  {
   "cell_type": "code",
   "execution_count": 20,
   "metadata": {},
   "outputs": [],
   "source": [
    "db_path = \"state_db/example.db\"\n",
    "conect = sqlite3.connect(\":memory:\", check_same_thread=False)"
   ]
  },
  {
   "cell_type": "code",
   "execution_count": 21,
   "metadata": {},
   "outputs": [],
   "source": [
    "external_memory = SqliteSaver(conect)"
   ]
  },
  {
   "cell_type": "code",
   "execution_count": 15,
   "metadata": {},
   "outputs": [],
   "source": [
    "# Criando a classe State, que irá provisionar a persistência de dados\n",
    "# nos nodes da arquitetura. A classe herda MessagesState, um reducer \n",
    "# que aplica por padrão a adição de mensagens num formato de lista, \n",
    "# e não a sua sobre-escrita. \n",
    "\n",
    "class State(MessagesState): \n",
    "    summary : str\n",
    "\n"
   ]
  },
  {
   "cell_type": "code",
   "execution_count": 16,
   "metadata": {},
   "outputs": [],
   "source": [
    "def call_model(state : State):\n",
    "\n",
    "    \"\"\"Função que chama o modelo de LLM utilizado e implementa\n",
    "       uma funcionalidade de resumo, visando diminuir os custos\n",
    "       financeiros e processamento da resposta do modelo. \"\"\"\n",
    "\n",
    "\n",
    "    # Extração do resumo por meio da chave \"summary\". \n",
    "    # Caso não exista resumo algum, é retornado vazio. \n",
    "    summary = state.get(\"summary\", \"\")\n",
    "\n",
    "    if summary:\n",
    "\n",
    "        # Instrução ao sistema. \n",
    "        system_message = f\"Summary of conversation earlier: {summary}\"\n",
    "\n",
    "        # Armazena a instrução ao sistema e as mensagens existentes. \n",
    "        messages = [SystemMessage(content=system_message)] + state[\"messages\"]\n",
    "\n",
    "    else:\n",
    "\n",
    "        # Se não existir resumo, apenas retorna as mensagens. \n",
    "        messages = state[\"messages\"]\n",
    "\n",
    "    # Resposta do modelo. \n",
    "    response = llm.invoke(messages)\n",
    "    return {\"messages\": response}\n"
   ]
  },
  {
   "cell_type": "code",
   "execution_count": 17,
   "metadata": {},
   "outputs": [],
   "source": [
    "def summarize_conversation(state: State):\n",
    "\n",
    "    \"\"\"Função que realiza uma conversa.\"\"\"\n",
    "\n",
    "    # Extração do resumo por meio da chave \"summary\". \n",
    "    # Caso não exista resumo algum, é retornado vazio.\n",
    "    summary = state.get(\"summary\", \"\")\n",
    "    \n",
    "    if summary:\n",
    "        \n",
    "        summary_message = (\n",
    "            f\"This is summary of the conversation to date: {summary}\\n\\n\"\n",
    "            \"Extend the summary by taking into account the new messages above:\"\n",
    "        )\n",
    "        \n",
    "    else:\n",
    "        summary_message = \"Create a summary of the conversation above:\"\n",
    "\n",
    "    # Adiciona o resumo junto das mensagens recebidas. \n",
    "    messages = state[\"messages\"] + [HumanMessage(content=summary_message)]\n",
    "\n",
    "    response = llm.invoke(messages)\n",
    "\n",
    "    return {\"summary\": response.content, \"messages\": messages}"
   ]
  },
  {
   "cell_type": "code",
   "execution_count": 18,
   "metadata": {},
   "outputs": [],
   "source": [
    "def should_continue(state : State):\n",
    "\n",
    "    \"\"\"Função que verifica a necessidade de realizar\n",
    "       o resumo da conversa ou não.\"\"\"\n",
    "\n",
    "    messages = state[\"messages\"]\n",
    "\n",
    "    # Critério lógico que decide que acima de 5 mensagens\n",
    "    # o modelo irá chamar a função que realiza o resumo. \n",
    "    if len(messages) > 5:\n",
    "        return \"summarize_conversation\"\n",
    "    \n",
    "    return END"
   ]
  },
  {
   "cell_type": "code",
   "execution_count": 22,
   "metadata": {},
   "outputs": [
    {
     "data": {
      "image/png": "[encoded data removed]",
      "text/plain": [
       "<IPython.core.display.Image object>"
      ]
     },
     "metadata": {},
     "output_type": "display_data"
    }
   ],
   "source": [
    "# Construtor da arquitetura\n",
    "workflow = StateGraph(State)\n",
    "\n",
    "# Definindo os nodes presentes\n",
    "workflow.add_node(\"conversation\", call_model)\n",
    "workflow.add_node(\"summarize_conversation\", summarize_conversation)\n",
    "\n",
    "# Definindo os entrypoints - por onde irá passar o fluxo. \n",
    "workflow.add_edge(START, \"conversation\")\n",
    "workflow.add_conditional_edges(\"conversation\", should_continue) # edge condicional que bifurca o fluxo.\n",
    "workflow.add_edge(\"summarize_conversation\", END)\n",
    "\n",
    "# Definindo o checkpointer - criação de memória. \n",
    "memory = MemorySaver()\n",
    "chatbot = workflow.compile(checkpointer=external_memory)\n",
    "\n",
    "display(Image(chatbot.get_graph().draw_mermaid_png()))"
   ]
  },
  {
   "cell_type": "code",
   "execution_count": 27,
   "metadata": {},
   "outputs": [
    {
     "name": "stdout",
     "output_type": "stream",
     "text": [
      "==================================\u001b[1m Ai Message \u001b[0m==================================\n",
      "\n",
      "Hello Noctis.  It seems like you're referring to Noctis Lucis Caelum, the main character from the popular video game \"Final Fantasy XV\".  What's on your mind, Noctis?\n"
     ]
    }
   ],
   "source": [
    "# Criando a thread. \n",
    "config = {\"configurable\": {\"thread_id\": \"15\"}}\n",
    "\n",
    "# Conversação. \n",
    "input_message = HumanMessage(content=\"hi! I'm Noctis\")\n",
    "output = chatbot.invoke({\"messages\": [input_message]}, config) \n",
    "for m in output['messages'][-1:]:\n",
    "    m.pretty_print()\n",
    "\n"
   ]
  },
  {
   "cell_type": "code",
   "execution_count": 28,
   "metadata": {},
   "outputs": [
    {
     "name": "stdout",
     "output_type": "stream",
     "text": [
      "==================================\u001b[1m Ai Message \u001b[0m==================================\n",
      "\n",
      "As Noctis Lucis Caelum, your last name is indeed \"Caelum\" and also \"Lucis\" as it's a part of your full name and title as the Crown Prince of the kingdom of Lucis.\n"
     ]
    }
   ],
   "source": [
    "# Criando a thread. \n",
    "config = {\"configurable\": {\"thread_id\": \"15\"}}\n",
    "\n",
    "# Conversação. \n",
    "input_message = HumanMessage(content=\"So, you know me ? If you do, could say my last name please ?\")\n",
    "output = chatbot.invoke({\"messages\": [input_message]}, config) \n",
    "for m in output['messages'][-1:]:\n",
    "    m.pretty_print()\n",
    "\n"
   ]
  },
  {
   "cell_type": "code",
   "execution_count": 29,
   "metadata": {},
   "outputs": [
    {
     "name": "stdout",
     "output_type": "stream",
     "text": [
      "================================\u001b[1m Human Message \u001b[0m=================================\n",
      "\n",
      "Create a summary of the conversation above:\n"
     ]
    }
   ],
   "source": [
    "# Criando a thread. \n",
    "config = {\"configurable\": {\"thread_id\": \"15\"}}\n",
    "\n",
    "# Conversação. \n",
    "input_message = HumanMessage(content=\"What was the last question I asked ?\")\n",
    "output = chatbot.invoke({\"messages\": [input_message]}, config) \n",
    "for m in output['messages'][-1:]:\n",
    "    m.pretty_print()\n",
    "\n"
   ]
  },
  {
   "cell_type": "code",
   "execution_count": 30,
   "metadata": {},
   "outputs": [
    {
     "data": {
      "text/plain": [
       "'Here\\'s a summary of our conversation:\\n\\n* You introduced yourself as Noctis.\\n* I recognized you as Noctis Lucis Caelum, the main character from the video game \"Final Fantasy XV\".\\n* You asked if I knew you and if I could say your last name.\\n* I replied that your last name is indeed \"Caelum\" and also \"Lucis\" as it\\'s a part of your full name and title as the Crown Prince of the kingdom of Lucis.\\n* You asked what your last question was.\\n* I replied that your last question was about me knowing you and saying your last name.'"
      ]
     },
     "execution_count": 30,
     "metadata": {},
     "output_type": "execute_result"
    }
   ],
   "source": [
    "# Verificando o resumo.\n",
    "chatbot.get_state(config).values.get(\"summary\",\"\")"
   ]
  },
  {
   "cell_type": "code",
   "execution_count": 31,
   "metadata": {},
   "outputs": [
    {
     "data": {
      "text/plain": [
       "StateSnapshot(values={'messages': [HumanMessage(content=\"hi! I'm Noctis\", additional_kwargs={}, response_metadata={}, id='17470f0b-c36b-4492-b9a0-75b58f9fa771'), HumanMessage(content=\"hi! I'm Noctis\", additional_kwargs={}, response_metadata={}, id='02da909f-4817-4751-8e22-9c7187715182'), AIMessage(content='Hello Noctis.  It seems like you\\'re referring to Noctis Lucis Caelum, the main character from the popular video game \"Final Fantasy XV\".  What\\'s on your mind, Noctis?', additional_kwargs={}, response_metadata={'token_usage': {'completion_tokens': 47, 'prompt_tokens': 54, 'total_tokens': 101, 'completion_time': 0.188, 'prompt_time': 0.010040446, 'queue_time': 0.0035809329999999997, 'total_time': 0.198040446}, 'model_name': 'llama-3.2-90b-text-preview', 'system_fingerprint': 'fp_5c5d1b5cfb', 'finish_reason': 'stop', 'logprobs': None}, id='run-e17a446f-098b-4b47-b835-c6ab94d85bb5-0', usage_metadata={'input_tokens': 54, 'output_tokens': 47, 'total_tokens': 101}), HumanMessage(content='So, you know me ? If you do, could say my last name please ?', additional_kwargs={}, response_metadata={}, id='0b29d84a-2174-47ad-a4f1-ec339f95282c'), AIMessage(content='As Noctis Lucis Caelum, your last name is indeed \"Caelum\" and also \"Lucis\" as it\\'s a part of your full name and title as the Crown Prince of the kingdom of Lucis.', additional_kwargs={}, response_metadata={'token_usage': {'completion_tokens': 49, 'prompt_tokens': 127, 'total_tokens': 176, 'completion_time': 0.196, 'prompt_time': 0.028701124, 'queue_time': 0.005085078999999999, 'total_time': 0.224701124}, 'model_name': 'llama-3.2-90b-text-preview', 'system_fingerprint': 'fp_9260b4bb2e', 'finish_reason': 'stop', 'logprobs': None}, id='run-fa03e8d5-0aed-4255-9f50-8856bf0c91c2-0', usage_metadata={'input_tokens': 127, 'output_tokens': 49, 'total_tokens': 176}), HumanMessage(content='What was the last question I asked ?', additional_kwargs={}, response_metadata={}, id='efcf89ed-9524-462c-be91-2fa1bd4ea2e0'), AIMessage(content='Your last question was: \"So, you know me ? If you do, could say my last name please ?\"', additional_kwargs={}, response_metadata={'token_usage': {'completion_tokens': 25, 'prompt_tokens': 193, 'total_tokens': 218, 'completion_time': 0.1, 'prompt_time': 0.032528938, 'queue_time': 0.00347103, 'total_time': 0.132528938}, 'model_name': 'llama-3.2-90b-text-preview', 'system_fingerprint': 'fp_b3ae7e594e', 'finish_reason': 'stop', 'logprobs': None}, id='run-eac3b52e-a284-403d-bbad-3674eb1f94a3-0', usage_metadata={'input_tokens': 193, 'output_tokens': 25, 'total_tokens': 218}), HumanMessage(content='Create a summary of the conversation above:', additional_kwargs={}, response_metadata={}, id='63a77aea-4a6a-47d5-aa14-ef898c0c51fe')], 'summary': 'Here\\'s a summary of our conversation:\\n\\n* You introduced yourself as Noctis.\\n* I recognized you as Noctis Lucis Caelum, the main character from the video game \"Final Fantasy XV\".\\n* You asked if I knew you and if I could say your last name.\\n* I replied that your last name is indeed \"Caelum\" and also \"Lucis\" as it\\'s a part of your full name and title as the Crown Prince of the kingdom of Lucis.\\n* You asked what your last question was.\\n* I replied that your last question was about me knowing you and saying your last name.'}, next=(), config={'configurable': {'thread_id': '15', 'checkpoint_ns': '', 'checkpoint_id': '1efa1af6-f94b-6271-800a-1a9a520d4b38'}}, metadata={'source': 'loop', 'writes': {'summarize_conversation': {'messages': [HumanMessage(content=\"hi! I'm Noctis\", additional_kwargs={}, response_metadata={}, id='17470f0b-c36b-4492-b9a0-75b58f9fa771'), HumanMessage(content=\"hi! I'm Noctis\", additional_kwargs={}, response_metadata={}, id='02da909f-4817-4751-8e22-9c7187715182'), AIMessage(content='Hello Noctis.  It seems like you\\'re referring to Noctis Lucis Caelum, the main character from the popular video game \"Final Fantasy XV\".  What\\'s on your mind, Noctis?', additional_kwargs={}, response_metadata={'token_usage': {'completion_tokens': 47, 'prompt_tokens': 54, 'total_tokens': 101, 'completion_time': 0.188, 'prompt_time': 0.010040446, 'queue_time': 0.0035809329999999997, 'total_time': 0.198040446}, 'model_name': 'llama-3.2-90b-text-preview', 'system_fingerprint': 'fp_5c5d1b5cfb', 'finish_reason': 'stop', 'logprobs': None}, id='run-e17a446f-098b-4b47-b835-c6ab94d85bb5-0', usage_metadata={'input_tokens': 54, 'output_tokens': 47, 'total_tokens': 101}), HumanMessage(content='So, you know me ? If you do, could say my last name please ?', additional_kwargs={}, response_metadata={}, id='0b29d84a-2174-47ad-a4f1-ec339f95282c'), AIMessage(content='As Noctis Lucis Caelum, your last name is indeed \"Caelum\" and also \"Lucis\" as it\\'s a part of your full name and title as the Crown Prince of the kingdom of Lucis.', additional_kwargs={}, response_metadata={'token_usage': {'completion_tokens': 49, 'prompt_tokens': 127, 'total_tokens': 176, 'completion_time': 0.196, 'prompt_time': 0.028701124, 'queue_time': 0.005085078999999999, 'total_time': 0.224701124}, 'model_name': 'llama-3.2-90b-text-preview', 'system_fingerprint': 'fp_9260b4bb2e', 'finish_reason': 'stop', 'logprobs': None}, id='run-fa03e8d5-0aed-4255-9f50-8856bf0c91c2-0', usage_metadata={'input_tokens': 127, 'output_tokens': 49, 'total_tokens': 176}), HumanMessage(content='What was the last question I asked ?', additional_kwargs={}, response_metadata={}, id='efcf89ed-9524-462c-be91-2fa1bd4ea2e0'), AIMessage(content='Your last question was: \"So, you know me ? If you do, could say my last name please ?\"', additional_kwargs={}, response_metadata={'token_usage': {'completion_tokens': 25, 'prompt_tokens': 193, 'total_tokens': 218, 'completion_time': 0.1, 'prompt_time': 0.032528938, 'queue_time': 0.00347103, 'total_time': 0.132528938}, 'model_name': 'llama-3.2-90b-text-preview', 'system_fingerprint': 'fp_b3ae7e594e', 'finish_reason': 'stop', 'logprobs': None}, id='run-eac3b52e-a284-403d-bbad-3674eb1f94a3-0', usage_metadata={'input_tokens': 193, 'output_tokens': 25, 'total_tokens': 218}), HumanMessage(content='Create a summary of the conversation above:', additional_kwargs={}, response_metadata={}, id='63a77aea-4a6a-47d5-aa14-ef898c0c51fe')], 'summary': 'Here\\'s a summary of our conversation:\\n\\n* You introduced yourself as Noctis.\\n* I recognized you as Noctis Lucis Caelum, the main character from the video game \"Final Fantasy XV\".\\n* You asked if I knew you and if I could say your last name.\\n* I replied that your last name is indeed \"Caelum\" and also \"Lucis\" as it\\'s a part of your full name and title as the Crown Prince of the kingdom of Lucis.\\n* You asked what your last question was.\\n* I replied that your last question was about me knowing you and saying your last name.'}}, 'thread_id': '15', 'step': 10, 'parents': {}}, created_at='2024-11-13T11:07:13.513944+00:00', parent_config={'configurable': {'thread_id': '15', 'checkpoint_ns': '', 'checkpoint_id': '1efa1af6-f086-67c8-8009-ef17ff25a49f'}}, tasks=())"
      ]
     },
     "execution_count": 31,
     "metadata": {},
     "output_type": "execute_result"
    }
   ],
   "source": [
    "# Confirmando se o estado está sendo persistido\n",
    "\n",
    "config = {\"configurable\": {\"thread_id\": \"15\"}}\n",
    "graph_state = chatbot.get_state(config)\n",
    "graph_state"
   ]
  }
 ],
 "metadata": {
  "kernelspec": {
   "display_name": "venv",
   "language": "python",
   "name": "python3"
  },
  "language_info": {
   "codemirror_mode": {
    "name": "ipython",
    "version": 3
   },
   "file_extension": ".py",
   "mimetype": "text/x-python",
   "name": "python",
   "nbconvert_exporter": "python",
   "pygments_lexer": "ipython3",
   "version": "3.12.7"
  }
 },
 "nbformat": 4,
 "nbformat_minor": 2
}
